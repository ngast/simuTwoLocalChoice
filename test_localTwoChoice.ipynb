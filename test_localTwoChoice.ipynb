{
 "cells": [
  {
   "cell_type": "code",
   "execution_count": 5,
   "metadata": {},
   "outputs": [],
   "source": [
    "import numpy as np\n",
    "import matplotlib.pyplot as plt\n",
    "import os\n",
    "%matplotlib inline"
   ]
  },
  {
   "cell_type": "code",
   "execution_count": 6,
   "metadata": {},
   "outputs": [
    {
     "name": "stdout",
     "output_type": "stream",
     "text": [
      "g++ -g -O2 -W -Wall twoChoices_openQueue.cc -o simulate\r\n"
     ]
    }
   ],
   "source": [
    "!make"
   ]
  },
  {
   "cell_type": "code",
   "execution_count": 18,
   "metadata": {},
   "outputs": [],
   "source": [
    "def simulate(N,T,rho=0.7,choice=1,resimulate=False):\n",
    "    \"\"\" choice : 0 (no choice), 1 (=local choice), 2 (JSQ(2), random) \"\"\"\n",
    "    fileName = 'tmp/test_N{0}_T{1}_C{2}_r{3}'.format(N,T,int(rho*1000),choice)\n",
    "    if resimulate or not os.path.isfile(fileName):\n",
    "        os.system('./simulate N{0} T{1} r{2} C{3} > {4}'.format(N,T,rho,choice,fileName))\n",
    "    x = np.loadtxt(fileName)\n",
    "    return(x[:,1]/sum(x[:,1]))"
   ]
  },
  {
   "cell_type": "code",
   "execution_count": null,
   "metadata": {},
   "outputs": [],
   "source": [
    "fig = plt.figure()\n",
    "fig.set_size_inches(20,10)\n",
    "\n",
    "myN = [2,3,4,5,10,100,1000,10000]\n",
    "for N in myN:\n",
    "    nc = simulate(N,1000000000,choice=1)\n",
    "    plt.semilogy(nc)\n",
    "plt.xlim([0,12])\n",
    "plt.legend(['N={}'.format(N) for N in myN])\n"
   ]
  },
  {
   "cell_type": "code",
   "execution_count": null,
   "metadata": {},
   "outputs": [],
   "source": []
  }
 ],
 "metadata": {
  "kernelspec": {
   "display_name": "Python 3",
   "language": "python",
   "name": "python3"
  },
  "language_info": {
   "codemirror_mode": {
    "name": "ipython",
    "version": 3
   },
   "file_extension": ".py",
   "mimetype": "text/x-python",
   "name": "python",
   "nbconvert_exporter": "python",
   "pygments_lexer": "ipython3",
   "version": "3.5.4"
  }
 },
 "nbformat": 4,
 "nbformat_minor": 2
}
